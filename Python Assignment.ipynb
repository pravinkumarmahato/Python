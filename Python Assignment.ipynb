{
 "cells": [
  {
   "cell_type": "markdown",
   "metadata": {},
   "source": [
    "# Python Assignment-1"
   ]
  },
  {
   "cell_type": "markdown",
   "metadata": {},
   "source": [
    "### Question 1.\n",
    "Write a program to find SUM and MULTIPLY of any three numbers."
   ]
  },
  {
   "cell_type": "code",
   "execution_count": 3,
   "metadata": {},
   "outputs": [
    {
     "name": "stdout",
     "output_type": "stream",
     "text": [
      "Sum =  131\n",
      "Multiplication =  78948\n"
     ]
    }
   ],
   "source": [
    "a=54\n",
    "b=34\n",
    "c=43\n",
    "print('Sum = ',a+b+c)\n",
    "print('Multiplication = ',a*b*c)"
   ]
  },
  {
   "cell_type": "markdown",
   "metadata": {},
   "source": [
    "### Question 2.\n",
    "Write a program to find the average of any five numbers. "
   ]
  },
  {
   "cell_type": "code",
   "execution_count": 6,
   "metadata": {},
   "outputs": [
    {
     "name": "stdout",
     "output_type": "stream",
     "text": [
      "Average =  54.0\n"
     ]
    }
   ],
   "source": [
    "a=12\n",
    "b=34\n",
    "c=56\n",
    "d=78\n",
    "e=90\n",
    "print('Average = ',(a+b+c+d+e)/5)"
   ]
  },
  {
   "cell_type": "markdown",
   "metadata": {},
   "source": [
    "### Question 3. \n",
    "Write a program to find simple interest. "
   ]
  },
  {
   "cell_type": "code",
   "execution_count": 7,
   "metadata": {},
   "outputs": [
    {
     "name": "stdout",
     "output_type": "stream",
     "text": [
      "Simple Intrest =  3900.0\n"
     ]
    }
   ],
   "source": [
    "P=5000\n",
    "R=6.5\n",
    "T=12\n",
    "print('Simple Intrest = ',(P*R*T)/100)"
   ]
  },
  {
   "cell_type": "markdown",
   "metadata": {},
   "source": [
    "### Question 4.\n",
    "Write a program to convert Celsius into Fahrenheit temperature. "
   ]
  },
  {
   "cell_type": "code",
   "execution_count": 10,
   "metadata": {},
   "outputs": [
    {
     "name": "stdout",
     "output_type": "stream",
     "text": [
      "Temperature in Celsius =  64.4\n"
     ]
    }
   ],
   "source": [
    "Temp_in_celsius=18\n",
    "print('Temperature in Celsius = ',(Temp_in_celsius * 1.8) + 32)"
   ]
  },
  {
   "cell_type": "markdown",
   "metadata": {},
   "source": [
    "### Question 5.\n",
    "Write a program to find perimeter of Rectangle. "
   ]
  },
  {
   "cell_type": "code",
   "execution_count": 16,
   "metadata": {},
   "outputs": [
    {
     "name": "stdout",
     "output_type": "stream",
     "text": [
      "Perimeter of Rectangle =  136\n"
     ]
    }
   ],
   "source": [
    "L=23\n",
    "B=45\n",
    "print('Perimeter of Rectangle = ',2*(L+B))"
   ]
  },
  {
   "cell_type": "markdown",
   "metadata": {},
   "source": [
    "### Question 6.\n",
    "Write a program to find circumference of Circle.  "
   ]
  },
  {
   "cell_type": "code",
   "execution_count": 17,
   "metadata": {},
   "outputs": [
    {
     "name": "stdout",
     "output_type": "stream",
     "text": [
      "Circumference of Circle =  351.68\n"
     ]
    }
   ],
   "source": [
    "R=56\n",
    "print('Circumference of Circle = ',2*3.14*R)"
   ]
  },
  {
   "cell_type": "markdown",
   "metadata": {},
   "source": [
    "### Question 7.\n",
    "The volume of a sphere with radius r is 4/3 πr^3 Write a Python program which accepts the radius of a sphere and computes the volume. What is the volume of a sphere with radius 5? "
   ]
  },
  {
   "cell_type": "code",
   "execution_count": 24,
   "metadata": {},
   "outputs": [
    {
     "name": "stdout",
     "output_type": "stream",
     "text": [
      "Volume of a Sphere =  523.3333333333334\n"
     ]
    }
   ],
   "source": [
    "R=5\n",
    "print('Volume of a Sphere = ', (4/3)*3.14*(R**3))"
   ]
  },
  {
   "cell_type": "markdown",
   "metadata": {},
   "source": [
    "### Question 8.\n",
    "Suppose the cover price of a book is Rs 240.95, but bookstores get a 40% discount. Shipping costs Rs 30 for the first copy and 75 cents for each additional copy. What is the total wholesale cost for 60 copies? "
   ]
  },
  {
   "cell_type": "code",
   "execution_count": 25,
   "metadata": {},
   "outputs": [
    {
     "name": "stdout",
     "output_type": "stream",
     "text": [
      "Total wholesale cost for 60 copies =  174.57\n"
     ]
    }
   ],
   "source": [
    "Cover_Price=240.95\n",
    "Cost_after_Discount=60*Cover_Price/100\n",
    "First_Shipping_Cost=30\n",
    "Additional_Shipping_Cost=0.75\n",
    "print('Total wholesale cost for 60 copies = ',Cost_after_Discount+First_Shipping_Cost )"
   ]
  },
  {
   "cell_type": "markdown",
   "metadata": {},
   "source": [
    "### Question 9.\n",
    "Write a Python program which accepts the radius of a circle from the user and compute the area. "
   ]
  },
  {
   "cell_type": "code",
   "execution_count": 19,
   "metadata": {},
   "outputs": [
    {
     "name": "stdout",
     "output_type": "stream",
     "text": [
      "Enter the Radius of Circle = 35\n",
      "Area of Circle =  3846.5\n"
     ]
    }
   ],
   "source": [
    "R=int(input('Enter the Radius of Circle = '))\n",
    "print('Area of Circle = ',3.14*R**2)"
   ]
  },
  {
   "cell_type": "markdown",
   "metadata": {},
   "source": [
    "### Question 10.\n",
    "Write a program to find smallest of three number."
   ]
  },
  {
   "cell_type": "code",
   "execution_count": 25,
   "metadata": {},
   "outputs": [
    {
     "name": "stdout",
     "output_type": "stream",
     "text": [
      "Enter First Number = 54\n",
      "Enter Second Number = 56\n",
      "Enter Third Number = 78\n",
      "54  is Smallest\n"
     ]
    }
   ],
   "source": [
    "A=int(input('Enter First Number = '))\n",
    "B=int(input('Enter Second Number = '))\n",
    "C=int(input('Enter Third Number = '))\n",
    "if A>B>C or B>A>C:\n",
    "    print(C,' is Smallest')\n",
    "elif A>C>B or C>A>B:\n",
    "    print(B,' is Smallest')\n",
    "elif B>C>A or C>B>A:\n",
    "    print(A,' is Smallest')\n",
    "else:\n",
    "    print('Invailid Input')"
   ]
  },
  {
   "cell_type": "markdown",
   "metadata": {},
   "source": [
    "### Question 11.\n",
    "Write a program to check the given no that is even or odd. "
   ]
  },
  {
   "cell_type": "code",
   "execution_count": 29,
   "metadata": {},
   "outputs": [
    {
     "name": "stdout",
     "output_type": "stream",
     "text": [
      "Enter Number = 64\n",
      "64  is even number\n"
     ]
    }
   ],
   "source": [
    "A=int(input('Enter Number = '))\n",
    "if A==0:\n",
    "    print('Number you entered is zero')\n",
    "elif A%2==0:\n",
    "    print(A,' is even number')\n",
    "else:\n",
    "    print(A,' is odd number')"
   ]
  },
  {
   "cell_type": "markdown",
   "metadata": {},
   "source": [
    "### Question 12.\n",
    "Write a program to check a year for leap year."
   ]
  },
  {
   "cell_type": "code",
   "execution_count": 37,
   "metadata": {},
   "outputs": [
    {
     "name": "stdout",
     "output_type": "stream",
     "text": [
      "Enter Year = 2020\n",
      "2020  Leap Year\n"
     ]
    }
   ],
   "source": [
    "year = int(input('Enter Year = '))\n",
    "if year % 4 == 0: \n",
    "    print(year,\" Leap Year\")\n",
    "elif year % 400 == 0:\n",
    "    print(year,\" Leap Year\")\n",
    "elif year % 100 == 0:\n",
    "    print(year,\" Not a Leap Year\")    \n",
    "else: \n",
    "    print(year,\" Not a Leap Year\")"
   ]
  },
  {
   "cell_type": "markdown",
   "metadata": {},
   "source": [
    "### Question 13.\n",
    "Write a program to print the number of days in a month. "
   ]
  },
  {
   "cell_type": "code",
   "execution_count": 39,
   "metadata": {},
   "outputs": [
    {
     "name": "stdout",
     "output_type": "stream",
     "text": [
      "Enter Month Number = 2\n",
      "Enter Year =2020\n",
      "Number of days is 29\n"
     ]
    }
   ],
   "source": [
    "month = int(input('Enter Month Number = '))\n",
    "year = int(input('Enter Year ='))\n",
    "if(month == 1 or month == 3 or month == 5 or month == 7 or month == 8 or month == 10 or month == 12):\n",
    "    print(\"Number of days is 31\")\n",
    "elif((month == 2) and ((year%400==0) or (year%4==0 and year%100!=0))):\n",
    "    print(\"Number of days is 29\")\n",
    "elif(month == 2):\n",
    "    print(\"Number of days is 28\")\n",
    "else:\n",
    "    print(\"Number of days is 30\")"
   ]
  },
  {
   "cell_type": "markdown",
   "metadata": {},
   "source": [
    "### Question 14.\n",
    "Write a program to find the area of triangle and show its type "
   ]
  },
  {
   "cell_type": "code",
   "execution_count": 45,
   "metadata": {},
   "outputs": [
    {
     "name": "stdout",
     "output_type": "stream",
     "text": [
      "Enter 1 for Equivalent Triangle, 2 for Scalene Triangle, 3 for General Triangle3\n",
      "Enter base of Triangle  =5\n",
      "Enter hight of Triangle  =7\n",
      "Area of  Triangle of base  5  and height  7  is = 17.5\n"
     ]
    }
   ],
   "source": [
    "from math import sqrt\n",
    "T=int(input('Enter 1 for Equivalent Triangle, 2 for Scalene Triangle, 3 for General Triangle'))\n",
    "if T==1:\n",
    "    s=int(input('Enter side of Equivalent Triangle  ='))\n",
    "    print('Area of Equivalent Triangle of side ',s,' is =',(sqrt(3)*s**2)/4)\n",
    "elif T==2:\n",
    "    a=int(input('Enter first side of Scalene Triangle  ='))\n",
    "    b=int(input('Enter second side of Scalene Triangle  ='))\n",
    "    c=int(input('Enter third side of Scalene Triangle  ='))\n",
    "    s=(a+b+c)/2\n",
    "    print('Area of Scalene Triangle of sides ',a,' , ',b,' , ',c,' is =',sqrt(s*(s - a)*(s - b)*(s - c)))\n",
    "elif T==3:\n",
    "    b=int(input('Enter base of Triangle  ='))\n",
    "    h=int(input('Enter hight of Triangle  ='))\n",
    "    print('Area of  Triangle of base ',b,' and height ',h,' is =',(1/2)*b*h)\n",
    "else:\n",
    "    print('Invalid Input, Try Again')"
   ]
  },
  {
   "cell_type": "markdown",
   "metadata": {},
   "source": [
    "### Question 15.\n",
    "Write a program which takes a character as input from the keyboard and convert it into capital letter if it is a small letter and Vice-Versa."
   ]
  },
  {
   "cell_type": "code",
   "execution_count": 53,
   "metadata": {},
   "outputs": [
    {
     "name": "stdout",
     "output_type": "stream",
     "text": [
      "Enter any character = SDGFF\n",
      "sdgff\n"
     ]
    }
   ],
   "source": [
    "A=input('Enter any character = ')\n",
    "if A.islower():\n",
    "    print(A.upper())\n",
    "elif A.isupper():\n",
    "    print(A.lower())\n",
    "else:\n",
    "    print('Invalid Input, Try Again') "
   ]
  },
  {
   "cell_type": "markdown",
   "metadata": {},
   "source": [
    "### Question 16.\n",
    "Write a Python program to find those numbers which are divisible by 7 and multiple of 5, between 1500 and 2700 (using range function and for loop) "
   ]
  },
  {
   "cell_type": "code",
   "execution_count": 79,
   "metadata": {},
   "outputs": [
    {
     "name": "stdout",
     "output_type": "stream",
     "text": [
      "1505\n",
      "1540\n",
      "1575\n",
      "1610\n",
      "1645\n",
      "1680\n",
      "1715\n",
      "1750\n",
      "1785\n",
      "1820\n",
      "1855\n",
      "1890\n",
      "1925\n",
      "1960\n",
      "1995\n",
      "2030\n",
      "2065\n",
      "2100\n",
      "2135\n",
      "2170\n",
      "2205\n",
      "2240\n",
      "2275\n",
      "2310\n",
      "2345\n",
      "2380\n",
      "2415\n",
      "2450\n",
      "2485\n",
      "2520\n",
      "2555\n",
      "2590\n",
      "2625\n",
      "2660\n",
      "2695\n"
     ]
    }
   ],
   "source": [
    "for n in range(1500,2700):\n",
    "    if n%7==0 and n%5==0:\n",
    "        print(n)"
   ]
  },
  {
   "cell_type": "markdown",
   "metadata": {},
   "source": [
    "### Question 17. \n",
    "Write a program that asks the user for a number. Depending on whether the number is even or odd, print out an appropriate message to the user. "
   ]
  },
  {
   "cell_type": "code",
   "execution_count": 80,
   "metadata": {},
   "outputs": [
    {
     "name": "stdout",
     "output_type": "stream",
     "text": [
      "Enter Number = 97\n",
      "97  is odd number\n"
     ]
    }
   ],
   "source": [
    "A=int(input('Enter Number = '))\n",
    "if A==0:\n",
    "    print('Number you entered is zero')\n",
    "elif A%2==0:\n",
    "    print(A,' is even number')\n",
    "else:\n",
    "    print(A,' is odd number')"
   ]
  },
  {
   "cell_type": "markdown",
   "metadata": {},
   "source": [
    "### Question 18.\n",
    "A cashier has currency notes of denominations 10, 50, and 100.If the amount to be withdrawn is input through the keyboard using input() function in hundreds, find the total number of currency notes of each denomination the cashier will have to give to the withdrawer."
   ]
  },
  {
   "cell_type": "code",
   "execution_count": 21,
   "metadata": {},
   "outputs": [
    {
     "name": "stdout",
     "output_type": "stream",
     "text": [
      "Enter your withdrawel amount = 1080\n",
      "The cashier will have to give  10  X 100 note +  1  X 50 note +  3  X 10 note to the withdrawer\n"
     ]
    }
   ],
   "source": [
    "A=int(input('Enter your withdrawel amount = '))\n",
    "X = int(A / 100)\n",
    "B = A % 100\n",
    "Y = int(B / 50)\n",
    "C = B % 50\n",
    "Z = int(C / 10)\n",
    "D = C % 10\n",
    "print('The cashier will have to give ',X,' X 100 note + ',Y,' X 50 note + ',Z,' X 10 note to the withdrawer')"
   ]
  },
  {
   "cell_type": "markdown",
   "metadata": {},
   "source": [
    "### Question 19.\n",
    "Write a program in Python, A library charges a fine for every book returned late. For first 5 days the fine is 50 paisa, for 6-10 days fine is one rupee and above 10 days fine is 5 rupees. If you return the book after 30 days your membership will be cancelled. Write a program to accept the number of days the member is late to return the book and display the fine or the appropriate message."
   ]
  },
  {
   "cell_type": "code",
   "execution_count": 8,
   "metadata": {},
   "outputs": [
    {
     "name": "stdout",
     "output_type": "stream",
     "text": [
      "Enter Number of days you returned the Book late = 31\n",
      "Your membership is cancelled\n"
     ]
    }
   ],
   "source": [
    "A=int(input('Enter Number of days you returned the Book late = '))\n",
    "if A<=5:\n",
    "    print('You have to pay fine of 50 paisa')\n",
    "elif A>=6 and A<=10:\n",
    "    print('You have to pay fine of 1 rupees')\n",
    "elif A>=10 and A<=30:\n",
    "    print('You have to pay fine of 5 rupees')\n",
    "else:\n",
    "    print('Your membership is cancelled')"
   ]
  },
  {
   "cell_type": "markdown",
   "metadata": {},
   "source": [
    "### Question 20.\n",
    "Write a program to calculate overtime pay of 10 employees. Overtime is paid at the rate of Rs.12.00 per hour for every hour worked above 40 hours. Assume that employee do not work for fractional part of an hour."
   ]
  },
  {
   "cell_type": "code",
   "execution_count": 23,
   "metadata": {},
   "outputs": [
    {
     "name": "stdout",
     "output_type": "stream",
     "text": [
      "Enter the time of working in hr = 61\n",
      "Overtime hours =  21\n",
      "Enter the time of working in hr = 52\n",
      "Overtime hours =  12\n",
      "Enter the time of working in hr = 43\n",
      "Overtime hours =  3\n",
      "Enter the time of working in hr = 74\n",
      "Overtime hours =  34\n",
      "Enter the time of working in hr = 63\n",
      "Overtime hours =  23\n",
      "Enter the time of working in hr = 52\n",
      "Overtime hours =  12\n",
      "Enter the time of working in hr = 41\n",
      "Overtime hours =  1\n",
      "Enter the time of working in hr = 65\n",
      "Overtime hours =  25\n",
      "Enter the time of working in hr = 56\n",
      "Overtime hours =  16\n",
      "Enter the time of working in hr = 76\n",
      "Overtime hours =  36\n",
      "Total Overtime Pay Of 10 Employees Is  2196\n"
     ]
    }
   ],
   "source": [
    "OT_Pay = 0\n",
    "for i in range(10) :\n",
    "    Total_Working = int(input(\"Enter the time of working in hr = \"))\n",
    "    if (Total_Working>40):\n",
    "        OT = Total_Working - 40\n",
    "        print(\"Overtime hours = \",OT)\n",
    "        OT_Pay = OT_Pay + (12 * OT)\n",
    "print(\"Total Overtime Pay Of 10 Employees Is \", OT_Pay)"
   ]
  }
 ],
 "metadata": {
  "kernelspec": {
   "display_name": "Python 3",
   "language": "python",
   "name": "python3"
  },
  "language_info": {
   "codemirror_mode": {
    "name": "ipython",
    "version": 3
   },
   "file_extension": ".py",
   "mimetype": "text/x-python",
   "name": "python",
   "nbconvert_exporter": "python",
   "pygments_lexer": "ipython3",
   "version": "3.7.6"
  }
 },
 "nbformat": 4,
 "nbformat_minor": 4
}
